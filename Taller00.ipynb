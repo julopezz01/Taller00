{
  "nbformat": 4,
  "nbformat_minor": 0,
  "metadata": {
    "colab": {
      "provenance": [],
      "authorship_tag": "ABX9TyPORIqdBhKd1M8Qc9gq1bvR",
      "include_colab_link": true
    },
    "kernelspec": {
      "name": "python3",
      "display_name": "Python 3"
    },
    "language_info": {
      "name": "python"
    }
  },
  "cells": [
    {
      "cell_type": "markdown",
      "metadata": {
        "id": "view-in-github",
        "colab_type": "text"
      },
      "source": [
        "<a href=\"https://colab.research.google.com/github/julopezz01/Taller00/blob/main/Taller00.ipynb\" target=\"_parent\"><img src=\"https://colab.research.google.com/assets/colab-badge.svg\" alt=\"Open In Colab\"/></a>"
      ]
    },
    {
      "cell_type": "markdown",
      "source": [
        "#Esto es un tìtulo"
      ],
      "metadata": {
        "id": "ZwnBaURWVYj9"
      }
    },
    {
      "cell_type": "markdown",
      "source": [
        "#Esto es un subtitulo\n"
      ],
      "metadata": {
        "id": "4YCDK-FjVpfL"
      }
    },
    {
      "cell_type": "code",
      "source": [
        "print(\"Hola mundo\")"
      ],
      "metadata": {
        "colab": {
          "base_uri": "https://localhost:8080/"
        },
        "id": "2x_gFcCvV8iS",
        "outputId": "8e670f07-ae89-4908-d253-5b978b751747"
      },
      "execution_count": 2,
      "outputs": [
        {
          "output_type": "stream",
          "name": "stdout",
          "text": [
            "Hola mundo\n"
          ]
        }
      ]
    },
    {
      "cell_type": "code",
      "source": [],
      "metadata": {
        "id": "B3-Epq34Wy0w"
      },
      "execution_count": null,
      "outputs": []
    }
  ]
}